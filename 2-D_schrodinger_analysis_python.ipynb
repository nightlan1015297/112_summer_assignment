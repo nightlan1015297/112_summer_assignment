{
 "cells": [
  {
   "cell_type": "code",
   "execution_count": 2,
   "metadata": {},
   "outputs": [],
   "source": [
    "import numpy as np\n",
    "from scipy.sparse.linalg import eigsh\n",
    "import matplotlib.pyplot as plt\n",
    "from scipy import sparse\n",
    "import plotly.graph_objects as go\n"
   ]
  },
  {
   "cell_type": "code",
   "execution_count": 5,
   "metadata": {},
   "outputs": [],
   "source": [
    "N_points = 100\n",
    "up_bound = 1\n",
    "dn_bound = -1\n",
    "\n",
    "del_x = (up_bound - dn_bound)/(N_points - 1)\n",
    "\n",
    "x_grid,y_grid = np.meshgrid(\n",
    "    np.linspace(dn_bound,up_bound,N_points,dtype=float),\n",
    "    np.linspace(dn_bound,up_bound,N_points,dtype=float)\n",
    "    )\n",
    "\n",
    "D = sparse.spdiags(\n",
    "    np.array([np.ones(N_points), -2*np.ones(N_points), np.ones(N_points)]),\n",
    "    np.array([-1, 0,1]),\n",
    "    N_points, N_points)\n",
    "P_2 = sparse.kronsum(D,D)\n",
    "T_hat = -1/2 * P_2\n",
    "\n",
    "def potential (x_grid,y_grid):\n",
    "    return ((x_grid)**2 + (y_grid)**2)/2\n",
    "\n",
    "V_hat = sparse.diags(potential(x_grid,y_grid).reshape(N_points*N_points),(0))\n",
    "\n",
    "H_hat = T_hat + V_hat\n",
    "\n",
    "E , psi = eigsh(H_hat,which='SM')\n",
    "\n"
   ]
  },
  {
   "cell_type": "code",
   "execution_count": 24,
   "metadata": {},
   "outputs": [],
   "source": [
    "for i in range(6):\n",
    "    fig = go.Figure(go.Surface(x=x_grid,y=y_grid,z=psi.T[i].reshape((N_points,N_points)),\n",
    "        contours = {\n",
    "            \"z\": {\"show\": True, \"start\": -1, \"end\": 1, \"size\": 0.005}\n",
    "        },    \n",
    "        colorscale='Aggrnyl',\n",
    "        colorbar=dict(thickness=20, ticklen=4),\n",
    "    ))\n",
    "    fig.update_layout(title = \"No.{i} Wavefunction \",template='plotly_dark',showlegend=True)\n",
    "    fig.write_html(f\"\\\\result\\\\2-d_harmonic_oscillator_potential\\\\py-no{i}state.html\", include_plotlyjs='cdn')\n"
   ]
  },
  {
   "cell_type": "code",
   "execution_count": null,
   "metadata": {},
   "outputs": [],
   "source": [
    "[]"
   ]
  }
 ],
 "metadata": {
  "kernelspec": {
   "display_name": "112-summer-assignment-hu8teaDG-py3.10",
   "language": "python",
   "name": "python3"
  },
  "language_info": {
   "codemirror_mode": {
    "name": "ipython",
    "version": 3
   },
   "file_extension": ".py",
   "mimetype": "text/x-python",
   "name": "python",
   "nbconvert_exporter": "python",
   "pygments_lexer": "ipython3",
   "version": "3.10.1"
  },
  "orig_nbformat": 4
 },
 "nbformat": 4,
 "nbformat_minor": 2
}
