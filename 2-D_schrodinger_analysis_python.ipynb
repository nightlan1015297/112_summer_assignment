{
 "cells": [
  {
   "cell_type": "code",
   "execution_count": 101,
   "metadata": {},
   "outputs": [],
   "source": [
    "import numpy as np\n",
    "from scipy.sparse.linalg import eigsh\n",
    "from scipy import sparse\n",
    "import plotly.graph_objects as go\n",
    "from plotly.subplots import make_subplots\n"
   ]
  },
  {
   "cell_type": "code",
   "execution_count": 155,
   "metadata": {},
   "outputs": [],
   "source": [
    "N_points = 100\n",
    "up_bound = 1\n",
    "dn_bound = -1\n",
    "\n",
    "k = 1000\n",
    "M = 1\n",
    "h_bar = 1\n",
    "omega = np.sqrt(k/M)\n",
    "\n",
    "del_s = (up_bound - dn_bound)/(N_points - 1)\n",
    "\n",
    "x_grid,y_grid = np.meshgrid(\n",
    "    np.linspace(dn_bound,up_bound,N_points,dtype=float),\n",
    "    np.linspace(dn_bound,up_bound,N_points,dtype=float)\n",
    "    )\n",
    "\n",
    "D = sparse.spdiags(\n",
    "    np.array([np.ones(N_points), -2*np.ones(N_points), np.ones(N_points)]),\n",
    "    np.array([-1, 0,1]),\n",
    "    N_points, N_points)\n",
    "P_2 = sparse.kronsum(D,D)\n",
    "T_hat = (-1/2)* P_2 / del_s**2\n",
    "\n",
    "def potential (x_grid,y_grid):\n",
    "    return k*((x_grid)**2 + (y_grid)**2)/2\n",
    "\n",
    "V_hat = sparse.diags(potential(x_grid,y_grid).reshape(N_points*N_points),(0))\n",
    "\n",
    "H_hat = T_hat + V_hat\n",
    "\n",
    "E , psi = eigsh(H_hat,which='SM')\n",
    "\n"
   ]
  },
  {
   "cell_type": "code",
   "execution_count": 156,
   "metadata": {},
   "outputs": [],
   "source": [
    "for i in range(6):\n",
    "    fig = go.Figure(go.Surface(x=x_grid,y=y_grid,z=psi.T[i].reshape((N_points,N_points)),\n",
    "        contours = {\n",
    "            \"z\": {\"show\": True, \"start\": -1, \"end\": 1, \"size\": 0.005}\n",
    "        },    \n",
    "        colorscale='Aggrnyl',\n",
    "        colorbar=dict(thickness=20, ticklen=4),\n",
    "    ))\n",
    "    fig.update_layout(title = f\"No.{i} Wavefunction \",template='plotly_dark',showlegend=True)\n",
    "    fig.write_html(f\"C:\\\\PROGRAMS\\\\112_summer_assignment\\\\result\\\\2-d_harmonic_oscillator_potential\\\\py-no{i}state.html\", include_plotlyjs='cdn')\n"
   ]
  },
  {
   "cell_type": "code",
   "execution_count": 5,
   "metadata": {},
   "outputs": [],
   "source": [
    "def Hermite(n,x):\n",
    "    if n == 0:\n",
    "        return 1\n",
    "    elif n == 1:\n",
    "        return x\n",
    "    elif n == 2:\n",
    "        return 4*x**2-2"
   ]
  },
  {
   "cell_type": "code",
   "execution_count": 157,
   "metadata": {},
   "outputs": [],
   "source": [
    "\n",
    "\n",
    "def analytic(n,m,x,y):\n",
    "    x_norm = np.sqrt(M*omega/h_bar)*x\n",
    "    y_norm = np.sqrt(M*omega/h_bar)*y\n",
    "    return (2**(n+m)*np.math.factorial(n)*np.math.factorial(m)*np.pi)**(-1/2)*np.exp((-x_norm**2-y_norm**2)/2)*Hermite(m,x_norm)*Hermite(n,y_norm)\n",
    "\n",
    "def rotate(x_grid, y_grid, RotRad=0):\n",
    "    RotMatrix = np.array([[np.cos(RotRad),  np.sin(RotRad)],\n",
    "                          [-np.sin(RotRad), np.cos(RotRad)]])\n",
    "    return np.einsum('ji, mni -> jmn', RotMatrix, np.dstack([x_grid, y_grid]))"
   ]
  },
  {
   "cell_type": "code",
   "execution_count": 159,
   "metadata": {},
   "outputs": [],
   "source": [
    "quantized_num = ((0,0),(1,0),(0,1),(2,0),(1,1),(1,1))\n",
    "serial_prefix = ('th','st','nd','rd','th','th')\n",
    "\n",
    "for i in range(6):\n",
    "    numer = psi.T[i].reshape((N_points,N_points))\n",
    "    norms = np.sqrt(np.sum(numer**2))\n",
    "    numer /= norms\n",
    "\n",
    "    fig = make_subplots(rows=1, cols=2\n",
    "    ,specs=[[{\"type\": \"scene\"}, {\"type\": \"xy\"}]],subplot_titles=(\"Analytic vs Numercial\", \"Absolute error\"))\n",
    "\n",
    "    MSE = []\n",
    "    for step in np.arange(0, 360, 3):\n",
    "        rotated_grid =  rotate(x_grid,y_grid, step/180*np.pi)\n",
    "        x_rotate = rotated_grid[0]\n",
    "        y_rotate = rotated_grid[1]\n",
    "        m,n = quantized_num[i]\n",
    "        analy = analytic(m,n,x_rotate,y_rotate)\n",
    "        norms = np.sqrt(np.sum(analy**2))\n",
    "        analy /= norms\n",
    "        \n",
    "        fig.add_trace(go.Surface(name=\"analytic solution\",x=x_grid,y=y_grid,z=analy, visible=False, colorbar=dict(title=\"Analytic\",thickness = 10, x=-0.2)),row=1, col=1)\n",
    "        fig.add_trace(go.Heatmap(name=\"absolute error\",z=np.abs(analy-numer),visible=False, colorscale='RdBu',colorbar=dict(title=\"Error\",thickness = 10)),row=1, col=2)\n",
    "        MSE.append(((analy-numer)**2).mean())\n",
    "\n",
    "    fig.data[0].visible = True\n",
    "    fig.data[1].visible = True\n",
    "\n",
    "    ### INVERSE 3RD STATE ###\n",
    "    if i== 3:\n",
    "         numer *= -1\n",
    "\n",
    "    fig.add_trace(go.Surface(name=\"numercial solution\",x=x_grid,y=y_grid,z=numer,colorscale='Aggrnyl',colorbar=dict(title=\"Numercial\",thickness = 10, x=-0.1)))\n",
    "\n",
    "    steps = []\n",
    "    for step_index in range((len(fig.data)-1)//2):\n",
    "        step = dict(\n",
    "            label = step_index*3,\n",
    "            method=\"update\",\n",
    "            args=[{\"visible\": [False] * (len(fig.data)-1) +  [True]},\n",
    "            {\"title\":f\" {i}{serial_prefix[i]} eigenvecter [m,n = {m},{n}] -MSE: {MSE[step_index]:.4E}\"}\n",
    "            ],  # layout attribute\n",
    "        )\n",
    "        \n",
    "        step[\"args\"][0][\"visible\"][step_index*2] = True  \n",
    "        step[\"args\"][0][\"visible\"][step_index*2+1] = True\n",
    "        \n",
    "        steps.append(step)\n",
    "\n",
    "    sliders = [dict(\n",
    "        active=0,\n",
    "        currentvalue={\"prefix\": \"Rotated angle: \"},\n",
    "        pad={\"t\": 50},\n",
    "        steps=steps\n",
    "    )]\n",
    "\n",
    "\n",
    "    fig.update_layout(template='plotly_dark')\n",
    "    fig.update_layout(sliders=sliders)\n",
    "\n",
    "    fig.write_html(f\"C:\\\\PROGRAMS\\\\112_summer_assignment\\\\result\\\\2-D_harmonic_oscillator_potential_with_analysis_sol\\\\{i}{serial_prefix[i]}_eigenvec.html\", include_plotlyjs='cdn')\n"
   ]
  },
  {
   "cell_type": "code",
   "execution_count": 160,
   "metadata": {},
   "outputs": [
    {
     "data": {
      "text/plain": [
       "array([31.59724838, 63.16892712, 63.16892712, 94.68940414, 94.68940414,\n",
       "       94.74060587])"
      ]
     },
     "execution_count": 160,
     "metadata": {},
     "output_type": "execute_result"
    }
   ],
   "source": [
    "E"
   ]
  },
  {
   "cell_type": "code",
   "execution_count": null,
   "metadata": {},
   "outputs": [],
   "source": []
  }
 ],
 "metadata": {
  "kernelspec": {
   "display_name": "112-summer-assignment-hu8teaDG-py3.10",
   "language": "python",
   "name": "python3"
  },
  "language_info": {
   "codemirror_mode": {
    "name": "ipython",
    "version": 3
   },
   "file_extension": ".py",
   "mimetype": "text/x-python",
   "name": "python",
   "nbconvert_exporter": "python",
   "pygments_lexer": "ipython3",
   "version": "3.10.1"
  },
  "orig_nbformat": 4
 },
 "nbformat": 4,
 "nbformat_minor": 2
}
